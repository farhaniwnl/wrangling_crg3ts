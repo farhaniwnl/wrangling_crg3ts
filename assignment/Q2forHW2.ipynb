{
 "cells": [
  {
   "cell_type": "code",
   "execution_count": 22,
   "metadata": {},
   "outputs": [
    {
     "name": "stdout",
     "output_type": "stream",
     "text": [
      "Requirement already satisfied: openpyxl in c:\\users\\coolc\\appdata\\local\\packages\\pythonsoftwarefoundation.python.3.10_qbz5n2kfra8p0\\localcache\\local-packages\\python310\\site-packages (3.1.2)\n",
      "Requirement already satisfied: et-xmlfile in c:\\users\\coolc\\appdata\\local\\packages\\pythonsoftwarefoundation.python.3.10_qbz5n2kfra8p0\\localcache\\local-packages\\python310\\site-packages (from openpyxl) (1.1.0)\n",
      "Note: you may need to restart the kernel to use updated packages.\n",
      "Current Working Directory:  c:\\Users\\coolc\\VSCodeProjects\\wrangling_crg3ts\\assignment\n"
     ]
    },
    {
     "name": "stderr",
     "output_type": "stream",
     "text": [
      "\n",
      "[notice] A new release of pip is available: 23.0.1 -> 24.0\n",
      "[notice] To update, run: C:\\Users\\coolc\\AppData\\Local\\Microsoft\\WindowsApps\\PythonSoftwareFoundation.Python.3.10_qbz5n2kfra8p0\\python.exe -m pip install --upgrade pip\n"
     ]
    }
   ],
   "source": [
    "import pandas as pd\n",
    "import numpy as np\n",
    "import os\n",
    "%pip install openpyxl\n",
    "print(\"Current Working Directory: \", os.getcwd())\n"
   ]
  },
  {
   "cell_type": "code",
   "execution_count": 23,
   "metadata": {},
   "outputs": [
    {
     "name": "stdout",
     "output_type": "stream",
     "text": [
      "     Host Id Host Since                                 Name Neighbourhood   \\\n",
      "0    5162530        NaN      1 Bedroom in Prime Williamsburg       Brooklyn   \n",
      "1   33134899        NaN      Sunny, Private room in Bushwick       Brooklyn   \n",
      "2   39608626        NaN                 Sunny Room in Harlem      Manhattan   \n",
      "3        500  6/26/2008   Gorgeous 1 BR with Private Balcony      Manhattan   \n",
      "4        500  6/26/2008             Trendy Times Square Loft      Manhattan   \n",
      "..       ...        ...                                  ...            ...   \n",
      "95      8198  2/19/2009   Park Slope haven 15 mins from Soho       Brooklyn   \n",
      "96      8380  2/22/2009            River view in the Village      Manhattan   \n",
      "97      8440  2/23/2009    Beautiful studio by Prospect Park       Brooklyn   \n",
      "98      8440  2/23/2009  Luxe 1BD apartment by Prospect Park       Brooklyn   \n",
      "99      8425  2/23/2009    Charming W.Village Apt. 8/25-9/15      Manhattan   \n",
      "\n",
      "   Property Type  Review Scores Rating (bin)        Room Type  Zipcode  Beds  \\\n",
      "0      Apartment                         NaN  Entire home/apt  11249.0   1.0   \n",
      "1      Apartment                         NaN     Private room  11206.0   1.0   \n",
      "2      Apartment                         NaN     Private room  10032.0   1.0   \n",
      "3      Apartment                         NaN  Entire home/apt  10024.0   3.0   \n",
      "4      Apartment                        95.0     Private room  10036.0   3.0   \n",
      "..           ...                         ...              ...      ...   ...   \n",
      "95     Apartment                        90.0  Entire home/apt  11217.0   1.0   \n",
      "96     Apartment                        95.0  Entire home/apt  10014.0   1.0   \n",
      "97     Apartment                         NaN  Entire home/apt  11218.0   1.0   \n",
      "98     Apartment                        95.0  Entire home/apt  11218.0   1.0   \n",
      "99     Apartment                       100.0  Entire home/apt  10014.0   1.0   \n",
      "\n",
      "    Number of Records  Number Of Reviews Price  Review Scores Rating  \n",
      "0                   1                  0   145                   NaN  \n",
      "1                   1                  1    37                   NaN  \n",
      "2                   1                  1    28                   NaN  \n",
      "3                   1                  0   199                   NaN  \n",
      "4                   1                 39   549                  96.0  \n",
      "..                ...                ...   ...                   ...  \n",
      "95                  1                 39   150                  93.0  \n",
      "96                  1                 57   200                  98.0  \n",
      "97                  1                  0   120                   NaN  \n",
      "98                  1                  4   150                  95.0  \n",
      "99                  1                  1   175                 100.0  \n",
      "\n",
      "[100 rows x 13 columns]\n",
      "Host Id                         int64\n",
      "Host Since                     object\n",
      "Name                           object\n",
      "Neighbourhood                  object\n",
      "Property Type                  object\n",
      "Review Scores Rating (bin)    float64\n",
      "Room Type                      object\n",
      "Zipcode                       float64\n",
      "Beds                          float64\n",
      "Number of Records               int64\n",
      "Number Of Reviews               int64\n",
      "Price                          object\n",
      "Review Scores Rating          float64\n",
      "dtype: object\n"
     ]
    }
   ],
   "source": [
    "air_data = pd.read_csv(\"C:/Users/coolc/VSCodeProjects/wrangling_crg3ts/assignment/data/airbnb_hw.csv\")\n",
    "print(air_data.head(100))\n",
    "print(air_data.dtypes)\n",
    "\n"
   ]
  },
  {
   "cell_type": "code",
   "execution_count": 24,
   "metadata": {},
   "outputs": [
    {
     "name": "stdout",
     "output_type": "stream",
     "text": [
      "Host Id                         int64\n",
      "Host Since                     object\n",
      "Name                           object\n",
      "Neighbourhood                  object\n",
      "Property Type                  object\n",
      "Review Scores Rating (bin)    float64\n",
      "Room Type                      object\n",
      "Zipcode                       float64\n",
      "Beds                          float64\n",
      "Number of Records               int64\n",
      "Number Of Reviews               int64\n",
      "Price                           int64\n",
      "Review Scores Rating          float64\n",
      "dtype: object\n"
     ]
    }
   ],
   "source": [
    "var = 'Price'\n",
    "air_data[var] = air_data[var].str.replace(',', '') #remove commas for over 999\n",
    "air_data[var] = air_data[var].str.replace('$', '') #remove dollar signs if present, makes later conversions easier\n",
    "air_data = air_data.dropna(subset=['Price']) #drop all na's, why keep an airbnb that doesn't have a price listed?\n",
    "air_data[var] = pd.to_numeric(air_data[var], errors='coerce') #convert to numeric\n",
    "air_data['Price'] = air_data['Price'].round(0) #round to two decimal places, make sure there are not infinite digits on right of decimal\n",
    "air_data = air_data[air_data['Price'] != 0] #drop all 0s, very likely to be mistakes, don't want outliers in our analysis\n",
    "print(air_data.dtypes)"
   ]
  },
  {
   "cell_type": "code",
   "execution_count": 25,
   "metadata": {},
   "outputs": [
    {
     "name": "stdout",
     "output_type": "stream",
     "text": [
      "    index   Case Number                  Date    Year        Type  \\\n",
      "0       0    2020.02.05           05-Feb-2020  2020.0  Unprovoked   \n",
      "1       1  2020.01.30.R  Reported 30-Jan-2020  2020.0    Provoked   \n",
      "2       2    2020.01.17           17-Jan-2020  2020.0  Unprovoked   \n",
      "3       3    2020.01.16           16-Jan-2020  2020.0  Unprovoked   \n",
      "4       4    2020.01.13           13-Jan-2020  2020.0  Unprovoked   \n",
      "..    ...           ...                   ...     ...         ...   \n",
      "95     95    2019.03.22           22-Mar-2019  2019.0  Unprovoked   \n",
      "96     96    2019.03.21           21-Mar-2019  2019.0  Unprovoked   \n",
      "97     97    2019.03.16  Reported 16-Mar-2019  2019.0  Unprovoked   \n",
      "98     98    2019.03.12           12-Mar-2019  2019.0  Unprovoked   \n",
      "99     99  2019.03.05.b           05-Mar-2019  2019.0  Unprovoked   \n",
      "\n",
      "        Country             Area                        Location  \\\n",
      "0           USA             Maui                             NaN   \n",
      "1       BAHAMAS           Exumas                             NaN   \n",
      "2     AUSTRALIA  New South Wales                   Windang Beach   \n",
      "3   NEW ZEALAND        Southland                     Oreti Beach   \n",
      "4           USA   North Carolina           Rodanthe, Dare County   \n",
      "..          ...              ...                             ...   \n",
      "95          USA          Florida       Hobe Sound, Martin County   \n",
      "96       MEXICO         Guerrero                       Troncones   \n",
      "97          USA           Hawaii                   Kaiwi Channel   \n",
      "98          USA          Florida     Stuart Beach, Martin County   \n",
      "99          USA           Oregon  Cape Kiwanda, Tillamook County   \n",
      "\n",
      "                    Activity             Name  ... Unnamed: 246 Unnamed: 247  \\\n",
      "0   Stand-Up Paddle boarding              NaN  ...          NaN          NaN   \n",
      "1                   Floating  Ana Bruna Avila  ...          NaN          NaN   \n",
      "2                    Surfing   Will Schroeter  ...          NaN          NaN   \n",
      "3                    Surfing      Jordan King  ...          NaN          NaN   \n",
      "4                    Surfing     Samuel Horne  ...          NaN          NaN   \n",
      "..                       ...              ...  ...          ...          ...   \n",
      "95                   Surfing      Chris Bryan  ...          NaN          NaN   \n",
      "96                  Swimming      Alex Wilton  ...          NaN          NaN   \n",
      "97                  Swimming      Eric Schall  ...          NaN          NaN   \n",
      "98           Boogie boarding       Kael Dewey  ...          NaN          NaN   \n",
      "99                   Surfing  Nathan Holstedt  ...          NaN          NaN   \n",
      "\n",
      "   Unnamed: 248 Unnamed: 249 Unnamed: 250 Unnamed: 251 Unnamed: 252  \\\n",
      "0           NaN          NaN          NaN          NaN          NaN   \n",
      "1           NaN          NaN          NaN          NaN          NaN   \n",
      "2           NaN          NaN          NaN          NaN          NaN   \n",
      "3           NaN          NaN          NaN          NaN          NaN   \n",
      "4           NaN          NaN          NaN          NaN          NaN   \n",
      "..          ...          ...          ...          ...          ...   \n",
      "95          NaN          NaN          NaN          NaN          NaN   \n",
      "96          NaN          NaN          NaN          NaN          NaN   \n",
      "97          NaN          NaN          NaN          NaN          NaN   \n",
      "98          NaN          NaN          NaN          NaN          NaN   \n",
      "99          NaN          NaN          NaN          NaN          NaN   \n",
      "\n",
      "   Unnamed: 253 Unnamed: 254 Unnamed: 255  \n",
      "0           NaN          NaN          NaN  \n",
      "1           NaN          NaN          NaN  \n",
      "2           NaN          NaN          NaN  \n",
      "3           NaN          NaN          NaN  \n",
      "4           NaN          NaN          NaN  \n",
      "..          ...          ...          ...  \n",
      "95          NaN          NaN          NaN  \n",
      "96          NaN          NaN          NaN  \n",
      "97          NaN          NaN          NaN  \n",
      "98          NaN          NaN          NaN  \n",
      "99          NaN          NaN          NaN  \n",
      "\n",
      "[100 rows x 257 columns]\n",
      "index             int64\n",
      "Case Number      object\n",
      "Date             object\n",
      "Year            float64\n",
      "Type             object\n",
      "                 ...   \n",
      "Unnamed: 251    float64\n",
      "Unnamed: 252    float64\n",
      "Unnamed: 253    float64\n",
      "Unnamed: 254    float64\n",
      "Unnamed: 255    float64\n",
      "Length: 257, dtype: object\n"
     ]
    },
    {
     "name": "stderr",
     "output_type": "stream",
     "text": [
      "C:\\Users\\coolc\\AppData\\Local\\Temp\\ipykernel_39744\\4223156244.py:1: DtypeWarning: Columns (10,17,18,19,20,21,24) have mixed types. Specify dtype option on import or set low_memory=False.\n",
      "  shark_data = pd.read_csv(\"C:/Users/coolc/VSCodeProjects/wrangling_crg3ts/assignment/data/sharks.csv\")\n"
     ]
    }
   ],
   "source": [
    "shark_data = pd.read_csv(\"C:/Users/coolc/VSCodeProjects/wrangling_crg3ts/assignment/data/sharks.csv\")\n",
    "print(shark_data.head(100))\n",
    "print(shark_data.dtypes)"
   ]
  },
  {
   "cell_type": "code",
   "execution_count": 26,
   "metadata": {},
   "outputs": [],
   "source": [
    "var = 'Type'\n",
    "shark_data['Type'] = shark_data['Type'].replace({'Boat': 'Boating','Boatomg': 'Boating','Watercraft': 'Boating','Sea Disaster': 'Boating'}) #misspelled boating in csv, watercraft accidents so similar to boating, filling missing vals w/ \"Unknown\"\n",
    "shark_data['Type'] = shark_data['Type'].replace(['Invalid','Questionable','Under Investigation','Unconfirmed','Unverified'],np.nan) #what does invalid even mean? i read through them and it seems they can go under unknown, questionable literally means unknown\n"
   ]
  },
  {
   "cell_type": "code",
   "execution_count": 28,
   "metadata": {},
   "outputs": [
    {
     "data": {
      "text/plain": [
       "0        9\n",
       "1        0\n",
       "2        0\n",
       "3        0\n",
       "4        1\n",
       "        ..\n",
       "22981    1\n",
       "22982    1\n",
       "22983    1\n",
       "22984    1\n",
       "22985    1\n",
       "Name: WhetherDefendantWasReleasedPretrial, Length: 22986, dtype: int64"
      ]
     },
     "execution_count": 28,
     "metadata": {},
     "output_type": "execute_result"
    }
   ],
   "source": [
    "url = 'http://www.vcsc.virginia.gov/pretrialdataproject/October%202017%20Cohort_Virginia%20Pretrial%20Data%20Project_Deidentified%20FINAL%20Update_10272021.csv'\n",
    "pretrial = pd.read_csv(url,low_memory=False) \n"
   ]
  },
  {
   "cell_type": "code",
   "execution_count": 29,
   "metadata": {},
   "outputs": [
    {
     "data": {
      "text/plain": [
       "0        9\n",
       "1        0\n",
       "2        0\n",
       "3        0\n",
       "4        1\n",
       "        ..\n",
       "22981    1\n",
       "22982    1\n",
       "22983    1\n",
       "22984    1\n",
       "22985    1\n",
       "Name: WhetherDefendantWasReleasedPretrial, Length: 22986, dtype: int64"
      ]
     },
     "execution_count": 29,
     "metadata": {},
     "output_type": "execute_result"
    }
   ],
   "source": [
    "var = 'WhetherDefendantWasReleasedPretrial' \n",
    "pretrial[var]"
   ]
  },
  {
   "cell_type": "code",
   "execution_count": null,
   "metadata": {},
   "outputs": [],
   "source": []
  }
 ],
 "metadata": {
  "kernelspec": {
   "display_name": "Python 3",
   "language": "python",
   "name": "python3"
  },
  "language_info": {
   "codemirror_mode": {
    "name": "ipython",
    "version": 3
   },
   "file_extension": ".py",
   "mimetype": "text/x-python",
   "name": "python",
   "nbconvert_exporter": "python",
   "pygments_lexer": "ipython3",
   "version": "3.10.11"
  }
 },
 "nbformat": 4,
 "nbformat_minor": 2
}
